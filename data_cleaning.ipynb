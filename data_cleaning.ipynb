{
 "cells": [
  {
   "cell_type": "code",
   "execution_count": 64,
   "metadata": {},
   "outputs": [],
   "source": [
    "import pandas as pd\n"
   ]
  },
  {
   "cell_type": "code",
   "execution_count": 65,
   "metadata": {},
   "outputs": [
    {
     "name": "stdout",
     "output_type": "stream",
     "text": [
      "Hi, new project, ESG\n"
     ]
    }
   ],
   "source": [
    "print('Hi, new project, ESG')"
   ]
  },
  {
   "cell_type": "code",
   "execution_count": 66,
   "metadata": {},
   "outputs": [],
   "source": [
    "# Step 1: Load your Excel file\n",
    "file_path = 'ESGEXCEL.xlsx'  # Replace with your file path\n",
    "df = pd.read_excel(file_path)"
   ]
  },
  {
   "cell_type": "code",
   "execution_count": 67,
   "metadata": {},
   "outputs": [
    {
     "data": {
      "text/plain": [
       "(16969, 68)"
      ]
     },
     "execution_count": 67,
     "metadata": {},
     "output_type": "execute_result"
    }
   ],
   "source": [
    "df.shape"
   ]
  },
  {
   "cell_type": "code",
   "execution_count": 68,
   "metadata": {},
   "outputs": [
    {
     "name": "stdout",
     "output_type": "stream",
     "text": [
      "<class 'pandas.core.frame.DataFrame'>\n",
      "RangeIndex: 16969 entries, 0 to 16968\n",
      "Data columns (total 68 columns):\n",
      " #   Column          Non-Null Count  Dtype  \n",
      "---  ------          --------------  -----  \n",
      " 0   Country Name    16969 non-null  object \n",
      " 1   Country Code    16969 non-null  object \n",
      " 2   Indicator Name  16969 non-null  object \n",
      " 3   Indicator Code  16969 non-null  object \n",
      " 4   1960            1623 non-null   float64\n",
      " 5   1961            2156 non-null   float64\n",
      " 6   1962            2165 non-null   float64\n",
      " 7   1963            2170 non-null   float64\n",
      " 8   1964            2175 non-null   float64\n",
      " 9   1965            2212 non-null   float64\n",
      " 10  1966            2213 non-null   float64\n",
      " 11  1967            2221 non-null   float64\n",
      " 12  1968            2232 non-null   float64\n",
      " 13  1969            2240 non-null   float64\n",
      " 14  1970            3423 non-null   float64\n",
      " 15  1971            3931 non-null   float64\n",
      " 16  1972            3931 non-null   float64\n",
      " 17  1973            3931 non-null   float64\n",
      " 18  1974            3937 non-null   float64\n",
      " 19  1975            4315 non-null   float64\n",
      " 20  1976            4274 non-null   float64\n",
      " 21  1977            4278 non-null   float64\n",
      " 22  1978            4286 non-null   float64\n",
      " 23  1979            4300 non-null   float64\n",
      " 24  1980            4608 non-null   float64\n",
      " 25  1981            4623 non-null   float64\n",
      " 26  1982            4559 non-null   float64\n",
      " 27  1983            4565 non-null   float64\n",
      " 28  1984            4601 non-null   float64\n",
      " 29  1985            4698 non-null   float64\n",
      " 30  1986            4688 non-null   float64\n",
      " 31  1987            4749 non-null   float64\n",
      " 32  1988            4738 non-null   float64\n",
      " 33  1989            4785 non-null   float64\n",
      " 34  1990            7138 non-null   float64\n",
      " 35  1991            7490 non-null   float64\n",
      " 36  1992            7655 non-null   float64\n",
      " 37  1993            7742 non-null   float64\n",
      " 38  1994            7794 non-null   float64\n",
      " 39  1995            8123 non-null   float64\n",
      " 40  1996            9300 non-null   float64\n",
      " 41  1997            8365 non-null   float64\n",
      " 42  1998            9563 non-null   float64\n",
      " 43  1999            8556 non-null   float64\n",
      " 44  2000            11430 non-null  float64\n",
      " 45  2001            9996 non-null   float64\n",
      " 46  2002            11362 non-null  float64\n",
      " 47  2003            11371 non-null  float64\n",
      " 48  2004            11542 non-null  float64\n",
      " 49  2005            11890 non-null  float64\n",
      " 50  2006            11664 non-null  float64\n",
      " 51  2007            11849 non-null  float64\n",
      " 52  2008            11808 non-null  float64\n",
      " 53  2009            11820 non-null  float64\n",
      " 54  2010            12346 non-null  float64\n",
      " 55  2011            12127 non-null  float64\n",
      " 56  2012            12239 non-null  float64\n",
      " 57  2013            12412 non-null  float64\n",
      " 58  2014            12509 non-null  float64\n",
      " 59  2015            12390 non-null  float64\n",
      " 60  2016            11783 non-null  float64\n",
      " 61  2017            11577 non-null  float64\n",
      " 62  2018            11710 non-null  float64\n",
      " 63  2019            11440 non-null  float64\n",
      " 64  2020            10731 non-null  float64\n",
      " 65  2021            7215 non-null   float64\n",
      " 66  2022            3640 non-null   float64\n",
      " 67  2023            453 non-null    float64\n",
      "dtypes: float64(64), object(4)\n",
      "memory usage: 8.8+ MB\n"
     ]
    }
   ],
   "source": [
    "df.info()"
   ]
  },
  {
   "cell_type": "code",
   "execution_count": 69,
   "metadata": {},
   "outputs": [
    {
     "data": {
      "text/plain": [
       "Index(['Country Name', 'Country Code', 'Indicator Name', 'Indicator Code',\n",
       "       '1960', '1961', '1962', '1963', '1964', '1965', '1966', '1967', '1968',\n",
       "       '1969', '1970', '1971', '1972', '1973', '1974', '1975', '1976', '1977',\n",
       "       '1978', '1979', '1980', '1981', '1982', '1983', '1984', '1985', '1986',\n",
       "       '1987', '1988', '1989', '1990', '1991', '1992', '1993', '1994', '1995',\n",
       "       '1996', '1997', '1998', '1999', '2000', '2001', '2002', '2003', '2004',\n",
       "       '2005', '2006', '2007', '2008', '2009', '2010', '2011', '2012', '2013',\n",
       "       '2014', '2015', '2016', '2017', '2018', '2019', '2020', '2021', '2022',\n",
       "       '2023'],\n",
       "      dtype='object')"
      ]
     },
     "execution_count": 69,
     "metadata": {},
     "output_type": "execute_result"
    }
   ],
   "source": [
    "df.columns"
   ]
  },
  {
   "cell_type": "code",
   "execution_count": 70,
   "metadata": {},
   "outputs": [],
   "source": [
    "#I would like to remove some years because I do not really need them\n",
    "df1=df[['Country Name', 'Indicator Name', 'Indicator Code',\n",
    "       '1998', '1999', '2000', '2001', '2002', '2003', '2004',\n",
    "       '2005', '2006', '2007', '2008', '2009', '2010', '2011', '2012', '2013',\n",
    "       '2014', '2015', '2016', '2017', '2018', '2019', '2020', '2021', '2022',\n",
    "       '2023']]"
   ]
  },
  {
   "cell_type": "code",
   "execution_count": 71,
   "metadata": {},
   "outputs": [
    {
     "name": "stdout",
     "output_type": "stream",
     "text": [
      "<class 'pandas.core.frame.DataFrame'>\n",
      "RangeIndex: 16969 entries, 0 to 16968\n",
      "Data columns (total 29 columns):\n",
      " #   Column          Non-Null Count  Dtype  \n",
      "---  ------          --------------  -----  \n",
      " 0   Country Name    16969 non-null  object \n",
      " 1   Indicator Name  16969 non-null  object \n",
      " 2   Indicator Code  16969 non-null  object \n",
      " 3   1998            9563 non-null   float64\n",
      " 4   1999            8556 non-null   float64\n",
      " 5   2000            11430 non-null  float64\n",
      " 6   2001            9996 non-null   float64\n",
      " 7   2002            11362 non-null  float64\n",
      " 8   2003            11371 non-null  float64\n",
      " 9   2004            11542 non-null  float64\n",
      " 10  2005            11890 non-null  float64\n",
      " 11  2006            11664 non-null  float64\n",
      " 12  2007            11849 non-null  float64\n",
      " 13  2008            11808 non-null  float64\n",
      " 14  2009            11820 non-null  float64\n",
      " 15  2010            12346 non-null  float64\n",
      " 16  2011            12127 non-null  float64\n",
      " 17  2012            12239 non-null  float64\n",
      " 18  2013            12412 non-null  float64\n",
      " 19  2014            12509 non-null  float64\n",
      " 20  2015            12390 non-null  float64\n",
      " 21  2016            11783 non-null  float64\n",
      " 22  2017            11577 non-null  float64\n",
      " 23  2018            11710 non-null  float64\n",
      " 24  2019            11440 non-null  float64\n",
      " 25  2020            10731 non-null  float64\n",
      " 26  2021            7215 non-null   float64\n",
      " 27  2022            3640 non-null   float64\n",
      " 28  2023            453 non-null    float64\n",
      "dtypes: float64(26), object(3)\n",
      "memory usage: 3.8+ MB\n"
     ]
    }
   ],
   "source": [
    "df1.info()"
   ]
  },
  {
   "cell_type": "code",
   "execution_count": 72,
   "metadata": {},
   "outputs": [],
   "source": [
    "# Step 2: Reshape from wide to long format\n",
    "# 'Country Name', 'Country Code', 'Indicator Name', 'Indicator Code' will remain as they are\n",
    "# Years (e.g., 1960-2023) will be unpivoted into a single column\n",
    "\n",
    "# Using pd.melt() to unpivot the year columns\n",
    "df_long = pd.melt(df1, id_vars=['Country Name', 'Indicator Name', 'Indicator Code'], \n",
    "                  var_name='Year', value_name='Value')\n",
    "\n"
   ]
  },
  {
   "cell_type": "code",
   "execution_count": 73,
   "metadata": {},
   "outputs": [
    {
     "data": {
      "text/plain": [
       "(441194, 5)"
      ]
     },
     "execution_count": 73,
     "metadata": {},
     "output_type": "execute_result"
    }
   ],
   "source": [
    "df_long.shape"
   ]
  },
  {
   "cell_type": "code",
   "execution_count": 74,
   "metadata": {},
   "outputs": [
    {
     "data": {
      "text/html": [
       "<div>\n",
       "<style scoped>\n",
       "    .dataframe tbody tr th:only-of-type {\n",
       "        vertical-align: middle;\n",
       "    }\n",
       "\n",
       "    .dataframe tbody tr th {\n",
       "        vertical-align: top;\n",
       "    }\n",
       "\n",
       "    .dataframe thead th {\n",
       "        text-align: right;\n",
       "    }\n",
       "</style>\n",
       "<table border=\"1\" class=\"dataframe\">\n",
       "  <thead>\n",
       "    <tr style=\"text-align: right;\">\n",
       "      <th></th>\n",
       "      <th>Country Name</th>\n",
       "      <th>Indicator Name</th>\n",
       "      <th>Indicator Code</th>\n",
       "      <th>Year</th>\n",
       "      <th>Value</th>\n",
       "    </tr>\n",
       "  </thead>\n",
       "  <tbody>\n",
       "    <tr>\n",
       "      <th>441189</th>\n",
       "      <td>Zimbabwe</td>\n",
       "      <td>Terrestrial and marine protected areas (% of t...</td>\n",
       "      <td>ER.PTD.TOTL.ZS</td>\n",
       "      <td>2023</td>\n",
       "      <td>NaN</td>\n",
       "    </tr>\n",
       "    <tr>\n",
       "      <th>441190</th>\n",
       "      <td>Zimbabwe</td>\n",
       "      <td>Tree Cover Loss (hectares)</td>\n",
       "      <td>AG.LND.FRLS.HA</td>\n",
       "      <td>2023</td>\n",
       "      <td>NaN</td>\n",
       "    </tr>\n",
       "    <tr>\n",
       "      <th>441191</th>\n",
       "      <td>Zimbabwe</td>\n",
       "      <td>Unemployment, total (% of total labor force) (...</td>\n",
       "      <td>SL.UEM.TOTL.ZS</td>\n",
       "      <td>2023</td>\n",
       "      <td>9.116</td>\n",
       "    </tr>\n",
       "    <tr>\n",
       "      <th>441192</th>\n",
       "      <td>Zimbabwe</td>\n",
       "      <td>Unmet need for contraception (% of married wom...</td>\n",
       "      <td>SP.UWT.TFRT</td>\n",
       "      <td>2023</td>\n",
       "      <td>NaN</td>\n",
       "    </tr>\n",
       "    <tr>\n",
       "      <th>441193</th>\n",
       "      <td>Zimbabwe</td>\n",
       "      <td>Voice and Accountability: Estimate</td>\n",
       "      <td>VA.EST</td>\n",
       "      <td>2023</td>\n",
       "      <td>NaN</td>\n",
       "    </tr>\n",
       "  </tbody>\n",
       "</table>\n",
       "</div>"
      ],
      "text/plain": [
       "       Country Name                                     Indicator Name  \\\n",
       "441189     Zimbabwe  Terrestrial and marine protected areas (% of t...   \n",
       "441190     Zimbabwe                         Tree Cover Loss (hectares)   \n",
       "441191     Zimbabwe  Unemployment, total (% of total labor force) (...   \n",
       "441192     Zimbabwe  Unmet need for contraception (% of married wom...   \n",
       "441193     Zimbabwe                 Voice and Accountability: Estimate   \n",
       "\n",
       "        Indicator Code  Year  Value  \n",
       "441189  ER.PTD.TOTL.ZS  2023    NaN  \n",
       "441190  AG.LND.FRLS.HA  2023    NaN  \n",
       "441191  SL.UEM.TOTL.ZS  2023  9.116  \n",
       "441192     SP.UWT.TFRT  2023    NaN  \n",
       "441193          VA.EST  2023    NaN  "
      ]
     },
     "execution_count": 74,
     "metadata": {},
     "output_type": "execute_result"
    }
   ],
   "source": [
    "df_long.tail(5)"
   ]
  },
  {
   "cell_type": "code",
   "execution_count": 75,
   "metadata": {},
   "outputs": [
    {
     "name": "stdout",
     "output_type": "stream",
     "text": [
      "['Arab World', 'Caribbean small states', 'Central Europe and the Baltics', 'Early-demographic dividend', 'East Asia & Pacific', 'East Asia & Pacific (excluding high income)', 'East Asia & Pacific (IDA & IBRD)', 'Euro area', 'Europe & Central Asia', 'Europe & Central Asia (excluding high income)', 'Europe & Central Asia (IDA & IBRD)', 'European Union', 'Fragile and conflict affected situations', 'Heavily indebted poor countries (HIPC)', 'High income', 'IBRD only', 'IDA & IBRD total', 'IDA blend', 'IDA only', 'IDA total', 'Late-demographic dividend', 'Latin America & Caribbean', 'Latin America & Caribbean (excluding high income)', 'Latin America & Caribbean (IDA & IBRD)', 'Least developed countries: UN classification', 'Low & middle income', 'Low income', 'Lower middle income', 'Middle East & North Africa', 'Middle East & North Africa (excluding high income)', 'Middle East & North Africa (IDA & IBRD)', 'Middle income', 'North America', 'OECD members', 'Other small states', 'Pacific island small states', 'Post-demographic dividend', 'Pre-demographic dividend', 'Small states', 'South Asia', 'South Asia (IDA & IBRD)', 'Sub-Saharan Africa', 'Sub-Saharan Africa (excluding high income)', 'Sub-Saharan Africa (IDA & IBRD)', 'Upper middle income', 'World', 'Afghanistan', 'Albania', 'Algeria', 'Andorra', 'Angola', 'Antigua and Barbuda', 'Argentina', 'Armenia', 'Australia', 'Austria', 'Azerbaijan', 'Bahamas, The', 'Bahrain', 'Bangladesh', 'Barbados', 'Belarus', 'Belgium', 'Belize', 'Benin', 'Bhutan', 'Bolivia', 'Bosnia and Herzegovina', 'Botswana', 'Brazil', 'Brunei Darussalam', 'Bulgaria', 'Burkina Faso', 'Burundi', 'Cabo Verde', 'Cambodia', 'Cameroon', 'Canada', 'Central African Republic', 'Chad', 'Chile', 'China', 'Colombia', 'Comoros', 'Congo, Dem. Rep.', 'Congo, Rep.', 'Costa Rica', \"Cote d'Ivoire\", 'Croatia', 'Cuba', 'Cyprus', 'Czechia', 'Denmark', 'Djibouti', 'Dominica', 'Dominican Republic', 'Ecuador', 'Egypt, Arab Rep.', 'El Salvador', 'Equatorial Guinea', 'Eritrea', 'Estonia', 'Eswatini', 'Ethiopia', 'Fiji', 'Finland', 'France', 'Gabon', 'Gambia, The', 'Georgia', 'Germany', 'Ghana', 'Greece', 'Grenada', 'Guatemala', 'Guinea', 'Guinea-Bissau', 'Guyana', 'Haiti', 'Honduras', 'Hungary', 'Iceland', 'India', 'Indonesia', 'Iran, Islamic Rep.', 'Iraq', 'Ireland', 'Israel', 'Italy', 'Jamaica', 'Japan', 'Jordan', 'Kazakhstan', 'Kenya', 'Kiribati', \"Korea, Dem. People's Rep.\", 'Korea, Rep.', 'Kuwait', 'Kyrgyz Republic', 'Lao PDR', 'Latvia', 'Lebanon', 'Lesotho', 'Liberia', 'Libya', 'Liechtenstein', 'Lithuania', 'Luxembourg', 'Madagascar', 'Malawi', 'Malaysia', 'Maldives', 'Mali', 'Malta', 'Marshall Islands', 'Mauritania', 'Mauritius', 'Mexico', 'Micronesia, Fed. Sts.', 'Moldova', 'Monaco', 'Mongolia', 'Montenegro', 'Morocco', 'Mozambique', 'Myanmar', 'Namibia', 'Nauru', 'Nepal', 'Netherlands', 'New Zealand', 'Nicaragua', 'Niger', 'Nigeria', 'North Macedonia', 'Norway', 'Oman', 'Pakistan', 'Palau', 'Panama', 'Papua New Guinea', 'Paraguay', 'Peru', 'Philippines', 'Poland', 'Portugal', 'Qatar', 'Romania', 'Russian Federation', 'Rwanda', 'Samoa', 'San Marino', 'Sao Tome and Principe', 'Saudi Arabia', 'Senegal', 'Serbia', 'Seychelles', 'Sierra Leone', 'Singapore', 'Slovak Republic', 'Slovenia', 'Solomon Islands', 'Somalia', 'South Africa', 'South Sudan', 'Spain', 'Sri Lanka', 'St. Kitts and Nevis', 'St. Lucia', 'St. Vincent and the Grenadines', 'Sudan', 'Suriname', 'Sweden', 'Switzerland', 'Syrian Arab Republic', 'Tajikistan', 'Tanzania', 'Thailand', 'Timor-Leste', 'Togo', 'Tonga', 'Trinidad and Tobago', 'Tunisia', 'Turkiye', 'Turkmenistan', 'Tuvalu', 'Uganda', 'Ukraine', 'United Arab Emirates', 'United Kingdom', 'United States', 'Uruguay', 'Uzbekistan', 'Vanuatu', 'Venezuela, RB', 'Viet Nam', 'Yemen, Rep.', 'Zambia', 'Zimbabwe']\n"
     ]
    }
   ],
   "source": [
    "# Display all unique values in a specific column\n",
    "column_name = 'Country Name'  # Replace with your specific column name\n",
    "unique_values = df_long[column_name].unique()\n",
    "\n",
    "# Convert unique values to a list and print\n",
    "unique_values_list = unique_values.tolist()\n",
    "print(unique_values_list)"
   ]
  },
  {
   "cell_type": "code",
   "execution_count": 81,
   "metadata": {},
   "outputs": [
    {
     "name": "stdout",
     "output_type": "stream",
     "text": [
      "Filtered DataFrame shape: (398736, 5)\n"
     ]
    }
   ],
   "source": [
    "# List of generalized countries\n",
    "generalized_countries = [\n",
    "    'Arab World', 'Caribbean small states', 'Central Europe and the Baltics',\n",
    "    'Early-demographic dividend', 'East Asia & Pacific', 'Euro area',\n",
    "    'European Union', 'Fragile and conflict affected situations',\n",
    "    'Heavily indebted poor countries (HIPC)', 'High income',\n",
    "    'IDA & IBRD total', 'Least developed countries: UN classification',\n",
    "    'Low & middle income', 'Middle East & North Africa',\n",
    "    'North America', 'OECD members', 'Other small states',\n",
    "    'Post-demographic dividend', 'Pre-demographic dividend',\n",
    "    'Small states', 'South Asia', 'Upper middle income', 'World'\n",
    "]\n",
    "\n",
    "# Filter the DataFrame to keep only generalized countries\n",
    "generalized_df = df_long[df_long['Country Name'].isin(generalized_countries)]\n",
    "\n",
    "# Save the generalized countries to a new CSV file\n",
    "generalized_df.to_excel('generalized_countries.xlsx', index=False)\n",
    "\n",
    "# Optionally, remove generalized countries from the original DataFrame\n",
    "df_filtered = df_long[~df_long['Country Name'].isin(generalized_countries)]\n",
    "\n",
    "# Show the shape of the filtered DataFrame\n",
    "print(\"Filtered DataFrame shape:\", df_filtered.shape)"
   ]
  },
  {
   "cell_type": "code",
   "execution_count": 76,
   "metadata": {},
   "outputs": [],
   "source": [
    "#I dont need the generalized names in this column but just the countries\n",
    "# List of recognized country names (You can use a more comprehensive list if needed)\n",
    "recognized_countries = [\n",
    "    'Afghanistan', 'Albania', 'Algeria', 'Andorra', 'Angola', \n",
    "    'Antigua and Barbuda', 'Argentina', 'Armenia', 'Australia', \n",
    "    'Austria', 'Azerbaijan', 'Bahamas, The', 'Bahrain', \n",
    "    'Bangladesh', 'Barbados', 'Belarus', 'Belgium', 'Belize', \n",
    "    'Benin', 'Bhutan', 'Bolivia', 'Bosnia and Herzegovina', \n",
    "    'Botswana', 'Brazil', 'Brunei Darussalam', 'Bulgaria', \n",
    "    'Burkina Faso', 'Burundi', 'Cabo Verde', 'Cambodia', \n",
    "    'Cameroon', 'Canada', 'Central African Republic', 'Chad', \n",
    "    'Chile', 'China', 'Colombia', 'Comoros', 'Congo, Dem. Rep.', \n",
    "    'Congo, Rep.', 'Costa Rica', \"Cote d'Ivoire\", 'Croatia', \n",
    "    'Cuba', 'Cyprus', 'Czechia', 'Denmark', 'Djibouti', \n",
    "    'Dominica', 'Dominican Republic', 'Ecuador', 'Egypt, Arab Rep.', \n",
    "    'El Salvador', 'Equatorial Guinea', 'Eritrea', 'Estonia', \n",
    "    'Eswatini', 'Ethiopia', 'Fiji', 'Finland', 'France', \n",
    "    'Gabon', 'Gambia, The', 'Georgia', 'Germany', 'Ghana', \n",
    "    'Greece', 'Grenada', 'Guatemala', 'Guinea', 'Guinea-Bissau', \n",
    "    'Guyana', 'Haiti', 'Honduras', 'Hungary', 'Iceland', \n",
    "    'India', 'Indonesia', 'Iran, Islamic Rep.', 'Iraq', \n",
    "    'Ireland', 'Israel', 'Italy', 'Jamaica', 'Japan', \n",
    "    'Jordan', 'Kazakhstan', 'Kenya', 'Kiribati', \"Korea, Dem. People's Rep.\", \n",
    "    'Korea, Rep.', 'Kuwait', 'Kyrgyz Republic', 'Lao PDR', \n",
    "    'Latvia', 'Lebanon', 'Lesotho', 'Liberia', 'Libya', \n",
    "    'Liechtenstein', 'Lithuania', 'Luxembourg', 'Madagascar', \n",
    "    'Malawi', 'Malaysia', 'Maldives', 'Mali', 'Malta', \n",
    "    'Marshall Islands', 'Mauritania', 'Mauritius', 'Mexico', \n",
    "    'Micronesia, Fed. Sts.', 'Moldova', 'Monaco', 'Mongolia', \n",
    "    'Montenegro', 'Morocco', 'Mozambique', 'Myanmar', 'Namibia', \n",
    "    'Nauru', 'Nepal', 'Netherlands', 'New Zealand', 'Nicaragua', \n",
    "    'Niger', 'Nigeria', 'North Macedonia', 'Norway', 'Oman', \n",
    "    'Pakistan', 'Palau', 'Panama', 'Papua New Guinea', 'Paraguay', \n",
    "    'Peru', 'Philippines', 'Poland', 'Portugal', 'Qatar', \n",
    "    'Romania', 'Russian Federation', 'Rwanda', 'Samoa', \n",
    "    'San Marino', 'Sao Tome and Principe', 'Saudi Arabia', \n",
    "    'Senegal', 'Serbia', 'Seychelles', 'Sierra Leone', \n",
    "    'Singapore', 'Slovak Republic', 'Slovenia', 'Solomon Islands', \n",
    "    'Somalia', 'South Africa', 'South Sudan', 'Spain', \n",
    "    'Sri Lanka', 'St. Kitts and Nevis', 'St. Lucia', \n",
    "    'St. Vincent and the Grenadines', 'Sudan', 'Suriname', \n",
    "    'Sweden', 'Switzerland', 'Syrian Arab Republic', 'Tajikistan', \n",
    "    'Tanzania', 'Thailand', 'Timor-Leste', 'Togo', 'Tonga', \n",
    "    'Trinidad and Tobago', 'Tunisia', 'Turkiye', 'Turkmenistan', \n",
    "    'Tuvalu', 'Uganda', 'Ukraine', 'United Arab Emirates', \n",
    "    'United Kingdom', 'United States', 'Uruguay', 'Uzbekistan', \n",
    "    'Vanuatu', 'Venezuela, RB', 'Viet Nam', 'Yemen, Rep.', \n",
    "    'Zambia', 'Zimbabwe'\n",
    "]\n"
   ]
  },
  {
   "cell_type": "code",
   "execution_count": 77,
   "metadata": {},
   "outputs": [],
   "source": [
    "# Filter DataFrame to keep only rows with recognized country names\n",
    "filtered_df = df_long[df_long['Country Name'].isin(recognized_countries)]\n",
    "\n",
    "# Optionally reset the index\n",
    "filtered_df.reset_index(drop=True, inplace=True)"
   ]
  },
  {
   "cell_type": "code",
   "execution_count": 78,
   "metadata": {},
   "outputs": [
    {
     "name": "stdout",
     "output_type": "stream",
     "text": [
      "(356278, 5)\n"
     ]
    }
   ],
   "source": [
    "# Filter out indicators with no data\n",
    "indicators_with_data = filtered_df['Indicator Name'].unique()  # Get all unique indicators\n",
    "indicators_with_data_count = filtered_df.groupby('Indicator Name')['Value'].count()  # Count non-null values for each indicator\n",
    "\n",
    "# Find indicators with zero non-null values\n",
    "indicators_without_data = indicators_with_data_count[indicators_with_data_count == 0].index\n",
    "\n",
    "# Remove these indicators from the DataFrame\n",
    "df_filtered1 = filtered_df[~filtered_df['Indicator Name'].isin(indicators_without_data)]\n",
    "\n",
    "# Show the resulting DataFrame shape\n",
    "print(df_filtered1.shape)\n"
   ]
  },
  {
   "cell_type": "code",
   "execution_count": 79,
   "metadata": {},
   "outputs": [],
   "source": [
    "\n",
    "# Optionally, you can save the filtered DataFrame to a new Excel file\n",
    "df_filtered1.to_excel('filtered_data.xlsx', index=False)"
   ]
  },
  {
   "cell_type": "code",
   "execution_count": 53,
   "metadata": {},
   "outputs": [
    {
     "name": "stdout",
     "output_type": "stream",
     "text": [
      "Reshaping complete! Data saved to: reshaped_data.xlsx\n"
     ]
    }
   ],
   "source": [
    "# Step 3: Save the reshaped data to a new file\n",
    "#output_file = 'reshaped_data.xlsx' \n",
    "#df_long.to_excel(output_file, index=False)\n",
    "\n",
    "#print(\"Reshaping complete! Data saved to:\", output_file)"
   ]
  }
 ],
 "metadata": {
  "kernelspec": {
   "display_name": "base",
   "language": "python",
   "name": "python3"
  },
  "language_info": {
   "codemirror_mode": {
    "name": "ipython",
    "version": 3
   },
   "file_extension": ".py",
   "mimetype": "text/x-python",
   "name": "python",
   "nbconvert_exporter": "python",
   "pygments_lexer": "ipython3",
   "version": "3.11.5"
  }
 },
 "nbformat": 4,
 "nbformat_minor": 2
}
